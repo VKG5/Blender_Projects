{
 "cells": [
  {
   "cell_type": "code",
   "execution_count": 1,
   "id": "10592568",
   "metadata": {},
   "outputs": [],
   "source": [
    "# Importing the libraries\n",
    "import turtle "
   ]
  },
  {
   "cell_type": "code",
   "execution_count": 2,
   "id": "3380347c",
   "metadata": {},
   "outputs": [],
   "source": [
    "wn = turtle.Screen()\n",
    "wn.bgcolor(\"light green\")\n",
    "wn.title(\"Turtle\")\n",
    "skk = turtle.Turtle()"
   ]
  },
  {
   "cell_type": "code",
   "execution_count": 3,
   "id": "1f92b236",
   "metadata": {},
   "outputs": [],
   "source": [
    "# L Systems\n",
    "# The Axiom (Starting Point)\n",
    "axiom = \"F-F++F-F\"\n",
    "\n",
    "# Number of generations/iterations to run this for\n",
    "generations = 3\n",
    "length = 5\n",
    "\n",
    "angle = 60\n",
    "# The Rule(s)\n",
    "# We are using a dictionary for ease of use and expandability\n",
    "# Left Hand = Single symbol/chara\n",
    "# Right Hand = The replacement/sequence of symbols\n",
    "## Left Hand -> Right Hand\n",
    "'''\n",
    "F : Go forward by some number of units\n",
    "B : Go backward by some number of units\n",
    "- : Turn left by some degrees\n",
    "+ : Turn right by some degrees\n",
    "(We’ll turn by 60 degrees)\n",
    "'''\n",
    "rules = {\n",
    "    \"F\": \"F-F++F-F\"\n",
    "}\n",
    "\n",
    "def generate(sentence):\n",
    "    # Number of generations/iterations loop\n",
    "    for i in range(generations):\n",
    "        # Creating a temporary string\n",
    "        temp = \"\"\n",
    "        \n",
    "        ## Debugging\n",
    "        #print(\"Generation %s : %s\" %(i, sentence))\n",
    "        \n",
    "        # The sentence loop     \n",
    "        for j in range(len(sentence)):\n",
    "            # Error handling to prevent errors\n",
    "            if(sentence[j] in rules):\n",
    "                # Updating the string\n",
    "                temp = temp + rules[sentence[j]]\n",
    "            \n",
    "            else:\n",
    "                temp = temp + sentence[j]\n",
    "                            \n",
    "        sentence = temp\n",
    "        \n",
    "    return sentence\n",
    "\n",
    "def generatePattern(sentence):\n",
    "    for word in sentence:\n",
    "        if(word == 'F'):\n",
    "            skk.forward(length)\n",
    "            \n",
    "        elif(word == '-'):\n",
    "            skk.left(angle)\n",
    "            \n",
    "        elif(word == '+'):\n",
    "            skk.right(angle)\n",
    "        \n",
    "        else:\n",
    "            continue\n",
    "    \n",
    "def main():\n",
    "    # Base condition\n",
    "    sentence = axiom    \n",
    "    # Generating the string\n",
    "    a = generate(sentence.upper())\n",
    "    \n",
    "    ## Debugging\n",
    "    #print(\"Generation %s : %s\" %(generations, a))\n",
    "    \n",
    "    return a"
   ]
  },
  {
   "cell_type": "code",
   "execution_count": 4,
   "id": "1b1e8a03",
   "metadata": {},
   "outputs": [],
   "source": [
    "axiomFinal = main()"
   ]
  },
  {
   "cell_type": "code",
   "execution_count": 5,
   "id": "dc6b6824",
   "metadata": {},
   "outputs": [
    {
     "data": {
      "text/plain": [
       "'F-F++F-F-F-F++F-F++F-F++F-F-F-F++F-F-F-F++F-F-F-F++F-F++F-F++F-F-F-F++F-F++F-F++F-F-F-F++F-F++F-F++F-F-F-F++F-F-F-F++F-F-F-F++F-F++F-F++F-F-F-F++F-F-F-F++F-F-F-F++F-F++F-F++F-F-F-F++F-F-F-F++F-F-F-F++F-F++F-F++F-F-F-F++F-F++F-F++F-F-F-F++F-F++F-F++F-F-F-F++F-F-F-F++F-F-F-F++F-F++F-F++F-F-F-F++F-F++F-F++F-F-F-F++F-F++F-F++F-F-F-F++F-F-F-F++F-F-F-F++F-F++F-F++F-F-F-F++F-F++F-F++F-F-F-F++F-F++F-F++F-F-F-F++F-F-F-F++F-F-F-F++F-F++F-F++F-F-F-F++F-F-F-F++F-F-F-F++F-F++F-F++F-F-F-F++F-F-F-F++F-F-F-F++F-F++F-F++F-F-F-F++F-F++F-F++F-F-F-F++F-F++F-F++F-F-F-F++F-F-F-F++F-F-F-F++F-F++F-F++F-F-F-F++F-F'"
      ]
     },
     "execution_count": 5,
     "metadata": {},
     "output_type": "execute_result"
    }
   ],
   "source": [
    "axiomFinal"
   ]
  },
  {
   "cell_type": "code",
   "execution_count": 6,
   "id": "1f90b452",
   "metadata": {
    "scrolled": false
   },
   "outputs": [],
   "source": [
    "generatePattern(axiomFinal)"
   ]
  },
  {
   "cell_type": "code",
   "execution_count": 7,
   "id": "00f4ce73",
   "metadata": {},
   "outputs": [],
   "source": [
    "turtle.done()"
   ]
  },
  {
   "cell_type": "code",
   "execution_count": null,
   "id": "6e91ff80",
   "metadata": {},
   "outputs": [],
   "source": []
  }
 ],
 "metadata": {
  "kernelspec": {
   "display_name": "Python 3",
   "language": "python",
   "name": "python3"
  },
  "language_info": {
   "codemirror_mode": {
    "name": "ipython",
    "version": 3
   },
   "file_extension": ".py",
   "mimetype": "text/x-python",
   "name": "python",
   "nbconvert_exporter": "python",
   "pygments_lexer": "ipython3",
   "version": "3.8.8"
  }
 },
 "nbformat": 4,
 "nbformat_minor": 5
}
