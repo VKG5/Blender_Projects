{
 "cells": [
  {
   "cell_type": "code",
   "execution_count": 2,
   "id": "aa082802",
   "metadata": {},
   "outputs": [],
   "source": [
    "# Importing the libraries\n",
    "import turtle "
   ]
  },
  {
   "cell_type": "code",
   "execution_count": 3,
   "id": "60c76443",
   "metadata": {},
   "outputs": [],
   "source": [
    "wn = turtle.Screen()\n",
    "wn.bgcolor(\"light green\")\n",
    "wn.title(\"Turtle\")\n",
    "skk = turtle.Turtle()"
   ]
  },
  {
   "cell_type": "code",
   "execution_count": 4,
   "id": "c8dafe6d",
   "metadata": {},
   "outputs": [],
   "source": [
    "skk.forward(100)"
   ]
  },
  {
   "cell_type": "code",
   "execution_count": null,
   "id": "e65277b8",
   "metadata": {},
   "outputs": [],
   "source": []
  }
 ],
 "metadata": {
  "kernelspec": {
   "display_name": "Python 3",
   "language": "python",
   "name": "python3"
  },
  "language_info": {
   "codemirror_mode": {
    "name": "ipython",
    "version": 3
   },
   "file_extension": ".py",
   "mimetype": "text/x-python",
   "name": "python",
   "nbconvert_exporter": "python",
   "pygments_lexer": "ipython3",
   "version": "3.8.8"
  }
 },
 "nbformat": 4,
 "nbformat_minor": 5
}
